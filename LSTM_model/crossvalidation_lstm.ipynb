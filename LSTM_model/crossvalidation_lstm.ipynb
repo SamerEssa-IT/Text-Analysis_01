{
 "cells": [
  {
   "cell_type": "code",
   "execution_count": 1,
   "metadata": {},
   "outputs": [],
   "source": [
    "#Import Liabraries\n",
    "import pandas as pd\n",
    "from collections import defaultdict, Counter\n",
    "import os\n",
    "from itertools import chain\n",
    "import sklearn.preprocessing as skp\n",
    "from sklearn.model_selection import train_test_split\n",
    "from sklearn.model_selection import StratifiedKFold\n",
    "import conll_utils\n",
    "import time\n",
    "from preprocessing_utils import SequenceEncoder\n",
    "import matplotlib.pyplot as plt\n",
    "import numpy as np\n",
    "import matplotlit_utils"
   ]
  },
  {
   "cell_type": "code",
   "execution_count": 2,
   "metadata": {},
   "outputs": [
    {
     "name": "stdout",
     "output_type": "stream",
     "text": [
      "Wall time: 20.1 s\n"
     ]
    }
   ],
   "source": [
    "%%time\n",
    "dataset = conll_utils.from_dir('C:/Users/Mazz Issa/Documents/Kurse/TA/Project/dataset_courts')"
   ]
  },
  {
   "cell_type": "markdown",
   "metadata": {},
   "source": [
    "#### add  column ' sentences ' to the data frame"
   ]
  },
  {
   "cell_type": "code",
   "execution_count": 3,
   "metadata": {},
   "outputs": [],
   "source": [
    "pred = dataset['predictors']\n",
    "sentences = []\n",
    "for sen in range(len(pred)):\n",
    "    sentences.append(\"sentence {}\".format(sen+1))\n",
    "sentences\n",
    "dataset.insert(0, \"Sentences\", sentences, True) "
   ]
  },
  {
   "cell_type": "code",
   "execution_count": 4,
   "metadata": {},
   "outputs": [
    {
     "data": {
      "text/html": [
       "<div>\n",
       "<style scoped>\n",
       "    .dataframe tbody tr th:only-of-type {\n",
       "        vertical-align: middle;\n",
       "    }\n",
       "\n",
       "    .dataframe tbody tr th {\n",
       "        vertical-align: top;\n",
       "    }\n",
       "\n",
       "    .dataframe thead th {\n",
       "        text-align: right;\n",
       "    }\n",
       "</style>\n",
       "<table border=\"1\" class=\"dataframe\">\n",
       "  <thead>\n",
       "    <tr style=\"text-align: right;\">\n",
       "      <th></th>\n",
       "      <th>Sentences</th>\n",
       "      <th>predictors</th>\n",
       "      <th>labels</th>\n",
       "      <th>file</th>\n",
       "    </tr>\n",
       "  </thead>\n",
       "  <tbody>\n",
       "    <tr>\n",
       "      <th>0</th>\n",
       "      <td>sentence 1</td>\n",
       "      <td>[Prozesskostenhilfe, -, Entschädigung, für, üb...</td>\n",
       "      <td>[O, O, O, O, O, O, O, O]</td>\n",
       "      <td>bag</td>\n",
       "    </tr>\n",
       "    <tr>\n",
       "      <th>1</th>\n",
       "      <td>sentence 2</td>\n",
       "      <td>[Der, Antrag, auf, Gewährung, von, Prozesskost...</td>\n",
       "      <td>[O, O, O, O, O, O, O, O, O, O, O, B-AN, O, O, ...</td>\n",
       "      <td>bag</td>\n",
       "    </tr>\n",
       "  </tbody>\n",
       "</table>\n",
       "</div>"
      ],
      "text/plain": [
       "    Sentences                                         predictors  \\\n",
       "0  sentence 1  [Prozesskostenhilfe, -, Entschädigung, für, üb...   \n",
       "1  sentence 2  [Der, Antrag, auf, Gewährung, von, Prozesskost...   \n",
       "\n",
       "                                              labels file  \n",
       "0                           [O, O, O, O, O, O, O, O]  bag  \n",
       "1  [O, O, O, O, O, O, O, O, O, O, O, B-AN, O, O, ...  bag  "
      ]
     },
     "execution_count": 4,
     "metadata": {},
     "output_type": "execute_result"
    }
   ],
   "source": [
    "df= dataset\n",
    "df.head(2)"
   ]
  },
  {
   "cell_type": "markdown",
   "metadata": {},
   "source": [
    "### Data preparation "
   ]
  },
  {
   "cell_type": "code",
   "execution_count": 5,
   "metadata": {},
   "outputs": [],
   "source": [
    "predictors, labels = df['predictors'], df['labels']"
   ]
  },
  {
   "cell_type": "markdown",
   "metadata": {},
   "source": [
    "###### SequenceEncoder \n",
    "mimics the keras's Tokenizer utilities."
   ]
  },
  {
   "cell_type": "code",
   "execution_count": 6,
   "metadata": {},
   "outputs": [],
   "source": [
    "predictor_encoder = SequenceEncoder(max_sequence_len = 100)"
   ]
  },
  {
   "cell_type": "code",
   "execution_count": 7,
   "metadata": {},
   "outputs": [],
   "source": [
    "predictor_encoder.fit(predictors)"
   ]
  },
  {
   "cell_type": "markdown",
   "metadata": {},
   "source": [
    "###### assign a unique number to each unique word in predictors and extends/cuts each sentence in predictors to length of 100"
   ]
  },
  {
   "cell_type": "code",
   "execution_count": 8,
   "metadata": {},
   "outputs": [
    {
     "name": "stdout",
     "output_type": "stream",
     "text": [
      "Predictors before sequencing:\n",
      " 0    [Prozesskostenhilfe, -, Entschädigung, für, üb...\n",
      "Name: predictors, dtype: object\n",
      "\n",
      "Encoded predictors:\n",
      " 0    [2740, 11, 2817, 18, 11822, 3894, 11, 792, 0, ...\n",
      "Name: predictors, dtype: object\n"
     ]
    }
   ],
   "source": [
    "print(\"Predictors before sequencing:\\n {}\". format(predictors[:1]))\n",
    "encoded_words = predictor_encoder.transform(predictors) \n",
    "print(\"\\nEncoded predictors:\\n {}\".format(encoded_words[:1]))"
   ]
  },
  {
   "cell_type": "code",
   "execution_count": 9,
   "metadata": {},
   "outputs": [],
   "source": [
    "## 2D array of all rows in df['predictors'] , shape (66723, 100) \n",
    "words = np.array(encoded_words.tolist())  \n",
    "\n",
    "## sorted list of all unique encoded words(their assigned numbers)\n",
    "unique_words = np.unique(words)\n",
    "\n",
    "## value of the largest encoded word\n",
    "words_dim = unique_words[-1] "
   ]
  },
  {
   "cell_type": "markdown",
   "metadata": {},
   "source": [
    "###### assign a unique number to each label in labels"
   ]
  },
  {
   "cell_type": "code",
   "execution_count": 10,
   "metadata": {},
   "outputs": [
    {
     "name": "stdout",
     "output_type": "stream",
     "text": [
      "labels before sequencing:\n",
      "0    [O, O, O, O, O, O, O, O]\n",
      "Name: labels, dtype: object\n",
      "\n",
      "Encoded labels:\n",
      "0    [1, 1, 1, 1, 1, 1, 1, 1, 0, 0, 0, 0, 0, 0, 0, ...\n",
      "Name: labels, dtype: object\n"
     ]
    }
   ],
   "source": [
    "label_encoder = SequenceEncoder(max_sequence_len = 100, special_tokens = ['<EMPTY>'])\n",
    "label_encoder.fit(labels)\n",
    "print(\"labels before sequencing:\\n{}\". format(labels[:1]))\n",
    "encoded_labels = label_encoder.transform(labels)\n",
    "print(\"\\nEncoded labels:\\n{}\".format(encoded_labels[:1]))"
   ]
  },
  {
   "cell_type": "code",
   "execution_count": 11,
   "metadata": {},
   "outputs": [
    {
     "name": "stdout",
     "output_type": "stream",
     "text": [
      "Number of Labels:  40\n"
     ]
    }
   ],
   "source": [
    "labels_array = np.array(encoded_labels.tolist()) ## 2D array of all rows in df['labels'] , shape : 66723,100\n",
    "labels_num = len(np.unique(labels_array))\n",
    "print(\"Number of Labels: \",labels_num)"
   ]
  },
  {
   "cell_type": "markdown",
   "metadata": {},
   "source": [
    "###### to_categorical:\n",
    "represent each one of the labels in a unique binary vector"
   ]
  },
  {
   "cell_type": "code",
   "execution_count": 12,
   "metadata": {},
   "outputs": [
    {
     "data": {
      "text/plain": [
       "[array([[0., 1., 0., ..., 0., 0., 0.],\n",
       "        [0., 1., 0., ..., 0., 0., 0.],\n",
       "        [0., 1., 0., ..., 0., 0., 0.],\n",
       "        ...,\n",
       "        [1., 0., 0., ..., 0., 0., 0.],\n",
       "        [1., 0., 0., ..., 0., 0., 0.],\n",
       "        [1., 0., 0., ..., 0., 0., 0.]], dtype=float32)]"
      ]
     },
     "execution_count": 12,
     "metadata": {},
     "output_type": "execute_result"
    }
   ],
   "source": [
    "from tensorflow.keras.utils import to_categorical\n",
    "y = [to_categorical(i,num_classes=40) for i in labels_array]  ## we have 39 classes and the 0\n",
    "y[:1]"
   ]
  },
  {
   "cell_type": "markdown",
   "metadata": {},
   "source": [
    "###### binary_to_label: (reverses 'to_categorical'  function)\n",
    "Reverse the binary representation of labels to their encoded form"
   ]
  },
  {
   "cell_type": "code",
   "execution_count": 13,
   "metadata": {},
   "outputs": [],
   "source": [
    "def binary_to_label(binary_labels):\n",
    "    reverse_ = []\n",
    "    for y in binary_labels:\n",
    "        reverse_.append(np.argmax(y, axis=-1))\n",
    "    return reverse_"
   ]
  },
  {
   "cell_type": "markdown",
   "metadata": {},
   "source": [
    "### Cross Validation "
   ]
  },
  {
   "cell_type": "code",
   "execution_count": 14,
   "metadata": {},
   "outputs": [],
   "source": [
    "## first we divide the dataset into k-folds\n",
    "import sklearn\n",
    "def shuffle_data(Data, Target):\n",
    "    return sklearn.utils.shuffle(Data, Target)\n",
    "\n",
    "def cross_validation(Data, Target, L):\n",
    "    \n",
    "    split_combination = []\n",
    "    historia = []\n",
    "    historia_split_num = []\n",
    "    ## shuffle data and target in the same order.\n",
    "    ##example data[[1,2],[4,5],[7,8]], target [10,11,12] => after shuffle ==> data[[4,5],[7,8],[1,2]], target [11,12,10]\n",
    "    data_, target_ = shuffle_data(Data, Target)\n",
    "    \n",
    "    ## Note i have to save the order of the shuffled data and return it too \n",
    "    \n",
    "    ## split data and target into L slices\n",
    "    \n",
    "    split_data = np.asarray(np.array_split(data_,L, axis = 0))\n",
    "    split_target = np.array(np.array_split(target_, L))\n",
    "    ## list to store errors rate of each slice prediction \n",
    "    errors = []\n",
    "    ##for L slices take one slice as test and the rest as training\n",
    "    for i in range(L):\n",
    "        print(\"\\nSlice Nr: {}\\n\".format(i+1))\n",
    "        # test_data and test_target for a certain slice in L\n",
    "        data_test = split_data[i]\n",
    "        target_test = split_target[i]\n",
    "        data_train = np.concatenate([split_data[j] for j in range(L) if j != i])\n",
    "        target_train = np.concatenate([split_target[j] for j in range(L) if j != i])\n",
    "        \n",
    "        split_combination.append(([data_train, target_train] ,[data_test, target_test]))\n",
    "        ## divide the training data, target to 20% validation data/target ##  or maybe not!\n",
    "        historia.append(model_call(data_train, target_train, exec(f'LSTM_model_{i+1} = None')))\n",
    "            \n",
    "            #errors.append(prediction_error_rate)\n",
    "            \n",
    "    #error_rate_mean = np.mean(errors)\n",
    "    #error_rate_StandardDiviation = np.std(errors)\n",
    "    #print(\"Error rate mean is: {}%,  Error rate standard deviation is: {}%\".format(error_rate_mean,error_rate_StandardDiviation))\n",
    "    return split_combination, historia ### so we can use the same split  #error_rate_mean,error_rate_StandardDiviation,"
   ]
  },
  {
   "cell_type": "code",
   "execution_count": 21,
   "metadata": {},
   "outputs": [],
   "source": [
    "def get_best_model(Data, Target, L): ## function calls train data on a model using cross validation\n",
    "    \n",
    "    Schuffled_target, cross_historia = cross_validation(Data, Target, L)  ## cross validation and train one model\n",
    "    history_list = []\n",
    "    ## this loops stores each of loss,accuracy, value_loss, value_accuracy in a list\n",
    "    for i in cross_historia:\n",
    "        history_list.append([val for v in i[0].history.values() for val in v]) \n",
    "    arr = np.vstack([val for val in history_list])\n",
    "    loss_less = np.argmin((arr[:,[0,2]]),axis=0) ## these columns contain the loss and val loss \n",
    "    val_high = np.argmax((arr[:,[1,3]]),axis=0) ## these columns contain the accuracy and value accuracy\n",
    "    loss_acc = np.concatenate((loss_less, val_high))\n",
    "    most_frequent = np.argmax(np.bincount(loss_acc)) ## most frquent vector (vectors with the best results)\n",
    "    best_ =  loss_acc[most_frequent]\n",
    "    \n",
    "    return cross_historia[best_] , Schuffled_target[best_] ## returns the best split, history and the model that was used"
   ]
  },
  {
   "cell_type": "markdown",
   "metadata": {},
   "source": [
    "### Training LSTM model"
   ]
  },
  {
   "cell_type": "code",
   "execution_count": 22,
   "metadata": {},
   "outputs": [],
   "source": [
    "from keras import Model, Input\n",
    "from keras.models import Sequential\n",
    "from keras.layers import Dense , Embedding ,LSTM\n",
    "from keras import Model, Input\n",
    "from keras.layers import TimeDistributed, SpatialDropout1D, Bidirectional\n",
    "import keras"
   ]
  },
  {
   "cell_type": "code",
   "execution_count": 23,
   "metadata": {},
   "outputs": [],
   "source": [
    "def model_call(x_train, y_train, model):\n",
    "    max_len = 100\n",
    "    input_word = Input(shape =(max_len, ))\n",
    "    model = Embedding(input_dim = words_dim+1, output_dim = max_len, input_length = max_len)(input_word)\n",
    "    model = SpatialDropout1D(0.1)(model)\n",
    "    model = Bidirectional(LSTM(units=100, return_sequences=True,recurrent_dropout=0.1))(model)\n",
    "    out = TimeDistributed(Dense(40, activation='softmax'))(model)\n",
    "    model = Model(input_word, out)\n",
    "    model.summary()\n",
    "    model.compile(optimizer='adam', loss='categorical_crossentropy', metrics=['accuracy'])\n",
    "    return model.fit(x_train, y_train, epochs=5, validation_split=0.2) , model"
   ]
  },
  {
   "cell_type": "markdown",
   "metadata": {},
   "source": [
    "###### Split data into training and testing \n",
    "for the encoded_words will represent X_data, y (binary form of the labels) will represent Y_data"
   ]
  },
  {
   "cell_type": "code",
   "execution_count": 24,
   "metadata": {},
   "outputs": [
    {
     "data": {
      "text/plain": [
       "((66723, 100), (66723, 100, 40))"
      ]
     },
     "execution_count": 24,
     "metadata": {},
     "output_type": "execute_result"
    }
   ],
   "source": [
    "Data , Target = np.array(encoded_words.tolist()) , np.array(y)\n",
    "Data.shape, Target.shape"
   ]
  },
  {
   "cell_type": "code",
   "execution_count": 32,
   "metadata": {},
   "outputs": [
    {
     "name": "stderr",
     "output_type": "stream",
     "text": [
      "C:\\Users\\Mazz Issa\\anaconda3\\lib\\site-packages\\ipykernel_launcher.py:20: VisibleDeprecationWarning: Creating an ndarray from ragged nested sequences (which is a list-or-tuple of lists-or-tuples-or ndarrays with different lengths or shapes) is deprecated. If you meant to do this, you must specify 'dtype=object' when creating the ndarray\n"
     ]
    },
    {
     "name": "stdout",
     "output_type": "stream",
     "text": [
      "\n",
      "Slice Nr: 1\n",
      "\n",
      "Model: \"model_5\"\n",
      "_________________________________________________________________\n",
      "Layer (type)                 Output Shape              Param #   \n",
      "=================================================================\n",
      "input_6 (InputLayer)         [(None, 100)]             0         \n",
      "_________________________________________________________________\n",
      "embedding_5 (Embedding)      (None, 100, 100)          8158300   \n",
      "_________________________________________________________________\n",
      "spatial_dropout1d_5 (Spatial (None, 100, 100)          0         \n",
      "_________________________________________________________________\n",
      "bidirectional_5 (Bidirection (None, 100, 200)          160800    \n",
      "_________________________________________________________________\n",
      "time_distributed_5 (TimeDist (None, 100, 40)           8040      \n",
      "=================================================================\n",
      "Total params: 8,327,140\n",
      "Trainable params: 8,327,140\n",
      "Non-trainable params: 0\n",
      "_________________________________________________________________\n",
      "Epoch 1/5\n",
      "1335/1335 [==============================] - 707s 518ms/step - loss: 0.3668 - accuracy: 0.9321 - val_loss: 0.0419 - val_accuracy: 0.9890\n",
      "Epoch 2/5\n",
      "1335/1335 [==============================] - 672s 503ms/step - loss: 0.0312 - accuracy: 0.9918 - val_loss: 0.0281 - val_accuracy: 0.9926\n",
      "Epoch 3/5\n",
      "1335/1335 [==============================] - 742s 556ms/step - loss: 0.0145 - accuracy: 0.9960 - val_loss: 0.0269 - val_accuracy: 0.9932\n",
      "Epoch 4/5\n",
      "1335/1335 [==============================] - 639s 478ms/step - loss: 0.0084 - accuracy: 0.9978 - val_loss: 0.0177 - val_accuracy: 0.9959\n",
      "Epoch 5/5\n",
      "1335/1335 [==============================] - 639s 479ms/step - loss: 0.0047 - accuracy: 0.9987 - val_loss: 0.0175 - val_accuracy: 0.9961\n",
      "\n",
      "Slice Nr: 2\n",
      "\n",
      "Model: \"model_6\"\n",
      "_________________________________________________________________\n",
      "Layer (type)                 Output Shape              Param #   \n",
      "=================================================================\n",
      "input_7 (InputLayer)         [(None, 100)]             0         \n",
      "_________________________________________________________________\n",
      "embedding_6 (Embedding)      (None, 100, 100)          8158300   \n",
      "_________________________________________________________________\n",
      "spatial_dropout1d_6 (Spatial (None, 100, 100)          0         \n",
      "_________________________________________________________________\n",
      "bidirectional_6 (Bidirection (None, 100, 200)          160800    \n",
      "_________________________________________________________________\n",
      "time_distributed_6 (TimeDist (None, 100, 40)           8040      \n",
      "=================================================================\n",
      "Total params: 8,327,140\n",
      "Trainable params: 8,327,140\n",
      "Non-trainable params: 0\n",
      "_________________________________________________________________\n",
      "Epoch 1/5\n",
      "1335/1335 [==============================] - 640s 471ms/step - loss: 0.3716 - accuracy: 0.9318 - val_loss: 0.0423 - val_accuracy: 0.9894\n",
      "Epoch 2/5\n",
      "1335/1335 [==============================] - 622s 466ms/step - loss: 0.0306 - accuracy: 0.9921 - val_loss: 0.0250 - val_accuracy: 0.9937\n",
      "Epoch 3/5\n",
      "1335/1335 [==============================] - 707s 529ms/step - loss: 0.0145 - accuracy: 0.9960 - val_loss: 0.0190 - val_accuracy: 0.9952\n",
      "Epoch 4/5\n",
      "1335/1335 [==============================] - 780s 584ms/step - loss: 0.0080 - accuracy: 0.9978 - val_loss: 0.0204 - val_accuracy: 0.9954\n",
      "Epoch 5/5\n",
      "1335/1335 [==============================] - 663s 497ms/step - loss: 0.0050 - accuracy: 0.9986 - val_loss: 0.0157 - val_accuracy: 0.9965\n",
      "\n",
      "Slice Nr: 3\n",
      "\n",
      "Model: \"model_7\"\n",
      "_________________________________________________________________\n",
      "Layer (type)                 Output Shape              Param #   \n",
      "=================================================================\n",
      "input_8 (InputLayer)         [(None, 100)]             0         \n",
      "_________________________________________________________________\n",
      "embedding_7 (Embedding)      (None, 100, 100)          8158300   \n",
      "_________________________________________________________________\n",
      "spatial_dropout1d_7 (Spatial (None, 100, 100)          0         \n",
      "_________________________________________________________________\n",
      "bidirectional_7 (Bidirection (None, 100, 200)          160800    \n",
      "_________________________________________________________________\n",
      "time_distributed_7 (TimeDist (None, 100, 40)           8040      \n",
      "=================================================================\n",
      "Total params: 8,327,140\n",
      "Trainable params: 8,327,140\n",
      "Non-trainable params: 0\n",
      "_________________________________________________________________\n",
      "Epoch 1/5\n",
      "1335/1335 [==============================] - 693s 511ms/step - loss: 0.3558 - accuracy: 0.9358 - val_loss: 0.0415 - val_accuracy: 0.9895\n",
      "Epoch 2/5\n",
      "1335/1335 [==============================] - 675s 506ms/step - loss: 0.0307 - accuracy: 0.9920 - val_loss: 0.0242 - val_accuracy: 0.9940\n",
      "Epoch 3/5\n",
      "1335/1335 [==============================] - 664s 498ms/step - loss: 0.0149 - accuracy: 0.9959 - val_loss: 0.0198 - val_accuracy: 0.9952\n",
      "Epoch 4/5\n",
      "1335/1335 [==============================] - 675s 506ms/step - loss: 0.0081 - accuracy: 0.9978 - val_loss: 0.0169 - val_accuracy: 0.9962\n",
      "Epoch 5/5\n",
      "1335/1335 [==============================] - 682s 511ms/step - loss: 0.0046 - accuracy: 0.9987 - val_loss: 0.0172 - val_accuracy: 0.9964\n",
      "\n",
      "Slice Nr: 4\n",
      "\n",
      "Model: \"model_8\"\n",
      "_________________________________________________________________\n",
      "Layer (type)                 Output Shape              Param #   \n",
      "=================================================================\n",
      "input_9 (InputLayer)         [(None, 100)]             0         \n",
      "_________________________________________________________________\n",
      "embedding_8 (Embedding)      (None, 100, 100)          8158300   \n",
      "_________________________________________________________________\n",
      "spatial_dropout1d_8 (Spatial (None, 100, 100)          0         \n",
      "_________________________________________________________________\n",
      "bidirectional_8 (Bidirection (None, 100, 200)          160800    \n",
      "_________________________________________________________________\n",
      "time_distributed_8 (TimeDist (None, 100, 40)           8040      \n",
      "=================================================================\n",
      "Total params: 8,327,140\n",
      "Trainable params: 8,327,140\n",
      "Non-trainable params: 0\n",
      "_________________________________________________________________\n",
      "Epoch 1/5\n",
      "1335/1335 [==============================] - 817s 600ms/step - loss: 0.3638 - accuracy: 0.9316 - val_loss: 0.0483 - val_accuracy: 0.9876\n",
      "Epoch 2/5\n",
      "1335/1335 [==============================] - 679s 508ms/step - loss: 0.0353 - accuracy: 0.9907 - val_loss: 0.0261 - val_accuracy: 0.9933\n",
      "Epoch 3/5\n",
      "1335/1335 [==============================] - 694s 520ms/step - loss: 0.0163 - accuracy: 0.9955 - val_loss: 0.0205 - val_accuracy: 0.9951\n",
      "Epoch 4/5\n",
      "1335/1335 [==============================] - 807s 604ms/step - loss: 0.0090 - accuracy: 0.9975 - val_loss: 0.0183 - val_accuracy: 0.9958\n",
      "Epoch 5/5\n",
      "1335/1335 [==============================] - 731s 548ms/step - loss: 0.0052 - accuracy: 0.9985 - val_loss: 0.0183 - val_accuracy: 0.9959\n",
      "\n",
      "Slice Nr: 5\n",
      "\n",
      "Model: \"model_9\"\n",
      "_________________________________________________________________\n",
      "Layer (type)                 Output Shape              Param #   \n",
      "=================================================================\n",
      "input_10 (InputLayer)        [(None, 100)]             0         \n",
      "_________________________________________________________________\n",
      "embedding_9 (Embedding)      (None, 100, 100)          8158300   \n",
      "_________________________________________________________________\n",
      "spatial_dropout1d_9 (Spatial (None, 100, 100)          0         \n",
      "_________________________________________________________________\n",
      "bidirectional_9 (Bidirection (None, 100, 200)          160800    \n",
      "_________________________________________________________________\n",
      "time_distributed_9 (TimeDist (None, 100, 40)           8040      \n",
      "=================================================================\n",
      "Total params: 8,327,140\n",
      "Trainable params: 8,327,140\n",
      "Non-trainable params: 0\n",
      "_________________________________________________________________\n",
      "Epoch 1/5\n",
      "1335/1335 [==============================] - 973s 719ms/step - loss: 0.3499 - accuracy: 0.9364 - val_loss: 0.0451 - val_accuracy: 0.9888\n",
      "Epoch 2/5\n",
      "1335/1335 [==============================] - 874s 654ms/step - loss: 0.0314 - accuracy: 0.9917 - val_loss: 0.0268 - val_accuracy: 0.9933\n",
      "Epoch 3/5\n",
      "1335/1335 [==============================] - 909s 681ms/step - loss: 0.0147 - accuracy: 0.9960 - val_loss: 0.0208 - val_accuracy: 0.9949\n",
      "Epoch 4/5\n",
      "1335/1335 [==============================] - 898s 673ms/step - loss: 0.0084 - accuracy: 0.9977 - val_loss: 0.0197 - val_accuracy: 0.9955\n",
      "Epoch 5/5\n",
      "1335/1335 [==============================] - 917s 687ms/step - loss: 0.0044 - accuracy: 0.9988 - val_loss: 0.0194 - val_accuracy: 0.9958\n"
     ]
    }
   ],
   "source": [
    "best_model ,best_split = get_best_model(Data, Target,5)"
   ]
  },
  {
   "cell_type": "code",
   "execution_count": 33,
   "metadata": {},
   "outputs": [
    {
     "name": "stdout",
     "output_type": "stream",
     "text": [
      "<tensorflow.python.keras.callbacks.History object at 0x0000025DDBFB4F48> <tensorflow.python.keras.engine.functional.Functional object at 0x0000025E00F5F3C8>\n"
     ]
    }
   ],
   "source": [
    "history, model = best_model[0], best_model[1]\n",
    "train_data, test_data = (best_split[0], best_split[1])\n",
    "#ithinkso = test_to_df(test_data[0], model)\n",
    "print(history, model)"
   ]
  },
  {
   "cell_type": "code",
   "execution_count": 39,
   "metadata": {},
   "outputs": [
    {
     "name": "stdout",
     "output_type": "stream",
     "text": [
      "Model: \"model_8\"\n",
      "_________________________________________________________________\n",
      "Layer (type)                 Output Shape              Param #   \n",
      "=================================================================\n",
      "input_9 (InputLayer)         [(None, 100)]             0         \n",
      "_________________________________________________________________\n",
      "embedding_8 (Embedding)      (None, 100, 100)          8158300   \n",
      "_________________________________________________________________\n",
      "spatial_dropout1d_8 (Spatial (None, 100, 100)          0         \n",
      "_________________________________________________________________\n",
      "bidirectional_8 (Bidirection (None, 100, 200)          160800    \n",
      "_________________________________________________________________\n",
      "time_distributed_8 (TimeDist (None, 100, 40)           8040      \n",
      "=================================================================\n",
      "Total params: 8,327,140\n",
      "Trainable params: 8,327,140\n",
      "Non-trainable params: 0\n",
      "_________________________________________________________________\n"
     ]
    }
   ],
   "source": [
    "model.summary() ## the model that was choosen "
   ]
  },
  {
   "cell_type": "code",
   "execution_count": 35,
   "metadata": {},
   "outputs": [
    {
     "name": "stdout",
     "output_type": "stream",
     "text": [
      "INFO:tensorflow:Assets written to: LSTM_model\\assets\n"
     ]
    }
   ],
   "source": [
    "model.save(\"LSTM_model\")"
   ]
  },
  {
   "cell_type": "markdown",
   "metadata": {},
   "source": [
    "### evaluation of the model"
   ]
  },
  {
   "cell_type": "code",
   "execution_count": 48,
   "metadata": {},
   "outputs": [
    {
     "data": {
      "image/png": "[encoded data removed]",
      "text/plain": [
       "<Figure size 432x288 with 1 Axes>"
      ]
     },
     "metadata": {
      "needs_background": "light"
     },
     "output_type": "display_data"
    }
   ],
   "source": [
    "plt.plot(history.history['loss'], color='r', label='loss')\n",
    "plt.plot(history.history['val_loss'], color='g', label = 'val_loss')\n",
    "plt.legend()\n",
    "plt.show()"
   ]
  },
  {
   "cell_type": "code",
   "execution_count": 37,
   "metadata": {},
   "outputs": [
    {
     "data": {
      "image/png": "[encoded data removed]",
      "text/plain": [
       "<Figure size 432x288 with 1 Axes>"
      ]
     },
     "metadata": {
      "needs_background": "light"
     },
     "output_type": "display_data"
    }
   ],
   "source": [
    "plt.plot(history.history['accuracy'], color='r', label='accuracy')\n",
    "plt.plot(history.history['val_accuracy'], color='g', label = 'val_accuracy')\n",
    "plt.legend()\n",
    "plt.show()"
   ]
  },
  {
   "cell_type": "markdown",
   "metadata": {},
   "source": [
    "### DataFrame of the prediction"
   ]
  },
  {
   "cell_type": "code",
   "execution_count": 40,
   "metadata": {},
   "outputs": [],
   "source": [
    "def test_to_df(test_data, model):\n",
    "    ## get the predicted labels \n",
    "    result = np.round(model.predict(test_data))  ## model.predicts returns values between 0 and 1, therefore, round the results\n",
    "    ## change the predicted labels from binary to their encoded sequence and reverse the sequence to labels\n",
    "    predicted_labels = label_encoder.reverse(binary_to_label(result)) \n",
    "    \n",
    "    ## reverse the test_data sequence to words\n",
    "    test_df = pd.Series(test_data.tolist()) \n",
    "    test_words = predictor_encoder.reverse(test_df)\n",
    "    \n",
    "    ## create a Dataframe\n",
    "    return pd.DataFrame(zip(test_words,predicted_labels), columns=['predictors_test', 'labels_test'])"
   ]
  },
  {
   "cell_type": "code",
   "execution_count": 41,
   "metadata": {},
   "outputs": [],
   "source": [
    "prediction_df = test_to_df(test_data[0],model)"
   ]
  },
  {
   "cell_type": "code",
   "execution_count": 42,
   "metadata": {},
   "outputs": [
    {
     "name": "stdout",
     "output_type": "stream",
     "text": [
      "Test loss: 0.01907780021429062 / Test accuracy: 0.9956474900245667\n"
     ]
    }
   ],
   "source": [
    "result = model.evaluate(test_data[0], test_data[1], verbose=0)\n",
    "print(f'Test loss: {result[0]} / Test accuracy: {result[1]}')"
   ]
  },
  {
   "cell_type": "code",
   "execution_count": 47,
   "metadata": {},
   "outputs": [
    {
     "data": {
      "text/html": [
       "<div>\n",
       "<style scoped>\n",
       "    .dataframe tbody tr th:only-of-type {\n",
       "        vertical-align: middle;\n",
       "    }\n",
       "\n",
       "    .dataframe tbody tr th {\n",
       "        vertical-align: top;\n",
       "    }\n",
       "\n",
       "    .dataframe thead th {\n",
       "        text-align: right;\n",
       "    }\n",
       "</style>\n",
       "<table border=\"1\" class=\"dataframe\">\n",
       "  <thead>\n",
       "    <tr style=\"text-align: right;\">\n",
       "      <th></th>\n",
       "      <th>predictors_test</th>\n",
       "      <th>labels_test</th>\n",
       "    </tr>\n",
       "  </thead>\n",
       "  <tbody>\n",
       "    <tr>\n",
       "      <th>9429</th>\n",
       "      <td>[Augat]</td>\n",
       "      <td>[B-RR]</td>\n",
       "    </tr>\n",
       "    <tr>\n",
       "      <th>2406</th>\n",
       "      <td>[In, die, nach, Art., 11, Abs., 2, Satz, 1, EM...</td>\n",
       "      <td>[O, O, O, B-EUN, I-EUN, I-EUN, I-EUN, I-EUN, I...</td>\n",
       "    </tr>\n",
       "    <tr>\n",
       "      <th>6045</th>\n",
       "      <td>[Das, Revisionsgericht, ist, in, einem, solche...</td>\n",
       "      <td>[O, O, O, O, O, O, O, O, O, O, O, O, O, O, O, ...</td>\n",
       "    </tr>\n",
       "    <tr>\n",
       "      <th>2463</th>\n",
       "      <td>[(, 3, ), Schließlich, haben, die, Tarifvertra...</td>\n",
       "      <td>[O, O, O, O, O, O, O, O, O, O, O, O, O, O, O, ...</td>\n",
       "    </tr>\n",
       "    <tr>\n",
       "      <th>10636</th>\n",
       "      <td>[2., Die, Verfassungsbeschwerde, ist, im, Sinn...</td>\n",
       "      <td>[O, O, O, O, O, O, O, B-GS, I-GS, I-GS, I-GS, ...</td>\n",
       "    </tr>\n",
       "    <tr>\n",
       "      <th>3802</th>\n",
       "      <td>[Er, wurde, im, Zeitpunkt, der, Versetzung, au...</td>\n",
       "      <td>[O, O, O, O, O, O, O, O, O, O, O, O, O, O, O, ...</td>\n",
       "    </tr>\n",
       "    <tr>\n",
       "      <th>9198</th>\n",
       "      <td>[Umgekehrt, ist, in, §, 1, Abs., 1, Satz, 2, K...</td>\n",
       "      <td>[O, O, O, B-VT, I-VT, I-VT, I-VT, I-VT, I-VO, ...</td>\n",
       "    </tr>\n",
       "    <tr>\n",
       "      <th>11569</th>\n",
       "      <td>[Sost-Scheible]</td>\n",
       "      <td>[B-RR]</td>\n",
       "    </tr>\n",
       "    <tr>\n",
       "      <th>3129</th>\n",
       "      <td>[Nach, den, unangegriffenen, und, damit, ebenf...</td>\n",
       "      <td>[O, O, O, O, O, O, O, O, O, O, O, O, O, O, O, ...</td>\n",
       "    </tr>\n",
       "    <tr>\n",
       "      <th>7264</th>\n",
       "      <td>[Grundsätzlich, bedeutsam, im, Sinne, von, §, ...</td>\n",
       "      <td>[O, O, O, O, O, B-GS, I-GS, I-GS, I-GS, I-GS, ...</td>\n",
       "    </tr>\n",
       "  </tbody>\n",
       "</table>\n",
       "</div>"
      ],
      "text/plain": [
       "                                         predictors_test  \\\n",
       "9429                                             [Augat]   \n",
       "2406   [In, die, nach, Art., 11, Abs., 2, Satz, 1, EM...   \n",
       "6045   [Das, Revisionsgericht, ist, in, einem, solche...   \n",
       "2463   [(, 3, ), Schließlich, haben, die, Tarifvertra...   \n",
       "10636  [2., Die, Verfassungsbeschwerde, ist, im, Sinn...   \n",
       "3802   [Er, wurde, im, Zeitpunkt, der, Versetzung, au...   \n",
       "9198   [Umgekehrt, ist, in, §, 1, Abs., 1, Satz, 2, K...   \n",
       "11569                                    [Sost-Scheible]   \n",
       "3129   [Nach, den, unangegriffenen, und, damit, ebenf...   \n",
       "7264   [Grundsätzlich, bedeutsam, im, Sinne, von, §, ...   \n",
       "\n",
       "                                             labels_test  \n",
       "9429                                              [B-RR]  \n",
       "2406   [O, O, O, B-EUN, I-EUN, I-EUN, I-EUN, I-EUN, I...  \n",
       "6045   [O, O, O, O, O, O, O, O, O, O, O, O, O, O, O, ...  \n",
       "2463   [O, O, O, O, O, O, O, O, O, O, O, O, O, O, O, ...  \n",
       "10636  [O, O, O, O, O, O, O, B-GS, I-GS, I-GS, I-GS, ...  \n",
       "3802   [O, O, O, O, O, O, O, O, O, O, O, O, O, O, O, ...  \n",
       "9198   [O, O, O, B-VT, I-VT, I-VT, I-VT, I-VT, I-VO, ...  \n",
       "11569                                             [B-RR]  \n",
       "3129   [O, O, O, O, O, O, O, O, O, O, O, O, O, O, O, ...  \n",
       "7264   [O, O, O, O, O, B-GS, I-GS, I-GS, I-GS, I-GS, ...  "
      ]
     },
     "execution_count": 47,
     "metadata": {},
     "output_type": "execute_result"
    }
   ],
   "source": [
    "prediction_df.sample(10)"
   ]
  },
  {
   "cell_type": "code",
   "execution_count": null,
   "metadata": {},
   "outputs": [],
   "source": []
  }
 ],
 "metadata": {
  "kernelspec": {
   "display_name": "Python 3",
   "language": "python",
   "name": "python3"
  },
  "language_info": {
   "codemirror_mode": {
    "name": "ipython",
    "version": 3
   },
   "file_extension": ".py",
   "mimetype": "text/x-python",
   "name": "python",
   "nbconvert_exporter": "python",
   "pygments_lexer": "ipython3",
   "version": "3.7.9"
  }
 },
 "nbformat": 4,
 "nbformat_minor": 4
}
